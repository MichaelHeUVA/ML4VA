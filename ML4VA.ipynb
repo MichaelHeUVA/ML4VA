{
 "cells": [
  {
   "cell_type": "code",
   "execution_count": 6,
   "metadata": {},
   "outputs": [
    {
     "name": "stdout",
     "output_type": "stream",
     "text": [
      "Donuts commonly contain the following allergens:\n",
      "\n",
      "1. **Wheat** - Found in the flour used to make the donut.\n",
      "2. **Eggs** - Often used in the batter for texture and richness.\n",
      "3. **Dairy** - Milk or butter can be included in the recipe.\n",
      "4. **Soy** - Sometimes found in food additives or oils used for frying.\n",
      "5. **Nuts** - Some flavored or topped donuts may contain nuts, including almonds, walnuts, or pecans.\n",
      "\n",
      "Additionally, donuts may be fried in oils that can be cross-contaminated with other allergens. Always check specific ingredients for any additional allergens.\n"
     ]
    }
   ],
   "source": [
    "from openai import OpenAI\n",
    "\n",
    "client = OpenAI()\n",
    "messages = [\n",
    "    {\n",
    "        \"role\": \"system\",\n",
    "        \"content\": \"You are a helpful assistant that recieves the name of the food and return the common allergies that it may contain.\",\n",
    "    },\n",
    "]\n",
    "\n",
    "messages.append({\"role\": \"user\", \"content\": \"donut\"})\n",
    "completion = client.chat.completions.create(\n",
    "    model=\"gpt-4o-mini\",\n",
    "    messages=messages,\n",
    ")\n",
    "\n",
    "print(completion.choices[0].message.content)\n"
   ]
  }
 ],
 "metadata": {
  "kernelspec": {
   "display_name": "Python 3",
   "language": "python",
   "name": "python3"
  },
  "language_info": {
   "codemirror_mode": {
    "name": "ipython",
    "version": 3
   },
   "file_extension": ".py",
   "mimetype": "text/x-python",
   "name": "python",
   "nbconvert_exporter": "python",
   "pygments_lexer": "ipython3",
   "version": "3.12.6"
  }
 },
 "nbformat": 4,
 "nbformat_minor": 2
}
